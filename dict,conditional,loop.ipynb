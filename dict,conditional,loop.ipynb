{
 "cells": [
  {
   "cell_type": "code",
   "execution_count": 1,
   "id": "fce731a8-f5c6-4188-9918-4b835211f268",
   "metadata": {},
   "outputs": [],
   "source": [
    "d={}"
   ]
  },
  {
   "cell_type": "code",
   "execution_count": 2,
   "id": "e5420e2c-e525-4d7f-b723-a1769b4e5cfc",
   "metadata": {},
   "outputs": [
    {
     "data": {
      "text/plain": [
       "dict"
      ]
     },
     "execution_count": 2,
     "metadata": {},
     "output_type": "execute_result"
    }
   ],
   "source": [
    "type(d)"
   ]
  },
  {
   "cell_type": "code",
   "execution_count": 3,
   "id": "e8925338-a3ad-477e-a597-f6d1c824d83c",
   "metadata": {},
   "outputs": [],
   "source": [
    "d1={'key':\"amzad\"}"
   ]
  },
  {
   "cell_type": "code",
   "execution_count": 4,
   "id": "b121c4a7-ab1d-4dc7-b412-3ff1c17512f9",
   "metadata": {},
   "outputs": [
    {
     "data": {
      "text/plain": [
       "{'key': 'amzad'}"
      ]
     },
     "execution_count": 4,
     "metadata": {},
     "output_type": "execute_result"
    }
   ],
   "source": [
    "d1"
   ]
  },
  {
   "cell_type": "code",
   "execution_count": 6,
   "id": "a62c5b89-189f-49c9-8a7c-4337832f274e",
   "metadata": {},
   "outputs": [],
   "source": [
    "d2={'name':\"amzad\",\"email\":\"ad@gmail.com\",\"number\":\"33454\"}"
   ]
  },
  {
   "cell_type": "code",
   "execution_count": 7,
   "id": "b1643eab-0f61-4559-8a5d-53a63fe4fd8f",
   "metadata": {},
   "outputs": [
    {
     "data": {
      "text/plain": [
       "{'name': 'amzad', 'email': 'ad@gmail.com', 'number': '33454'}"
      ]
     },
     "execution_count": 7,
     "metadata": {},
     "output_type": "execute_result"
    }
   ],
   "source": [
    "d2"
   ]
  },
  {
   "cell_type": "code",
   "execution_count": 14,
   "id": "2bd2ed20-65ab-431d-afc6-35842719a5e9",
   "metadata": {},
   "outputs": [],
   "source": [
    "d3={234:\"amzad\",'_wer':'alam',True:'24234'}"
   ]
  },
  {
   "cell_type": "code",
   "execution_count": 15,
   "id": "a5ace3c7-22c8-46e6-b053-e4d5ada97af9",
   "metadata": {},
   "outputs": [
    {
     "data": {
      "text/plain": [
       "{234: 'amzad', '_wer': 'alam', True: '24234'}"
      ]
     },
     "execution_count": 15,
     "metadata": {},
     "output_type": "execute_result"
    }
   ],
   "source": [
    "d3"
   ]
  },
  {
   "cell_type": "code",
   "execution_count": 16,
   "id": "f4aeedf7-3ca3-41da-bf1c-b10056583cd1",
   "metadata": {},
   "outputs": [
    {
     "data": {
      "text/plain": [
       "'amzad'"
      ]
     },
     "execution_count": 16,
     "metadata": {},
     "output_type": "execute_result"
    }
   ],
   "source": [
    "d3[234]"
   ]
  },
  {
   "cell_type": "code",
   "execution_count": 18,
   "id": "d41976d3-38cb-4697-b535-8e53fcf43228",
   "metadata": {},
   "outputs": [
    {
     "data": {
      "text/plain": [
       "'24234'"
      ]
     },
     "execution_count": 18,
     "metadata": {},
     "output_type": "execute_result"
    }
   ],
   "source": [
    "d3[True]"
   ]
  },
  {
   "cell_type": "code",
   "execution_count": 19,
   "id": "6a903971-aa9e-4a19-a2e2-c59f32d09546",
   "metadata": {},
   "outputs": [
    {
     "data": {
      "text/plain": [
       "'24234'"
      ]
     },
     "execution_count": 19,
     "metadata": {},
     "output_type": "execute_result"
    }
   ],
   "source": [
    "d3[1]"
   ]
  },
  {
   "cell_type": "code",
   "execution_count": 21,
   "id": "b6fd7d2a-edae-4991-992e-26c10154721c",
   "metadata": {},
   "outputs": [],
   "source": [
    "d4={'name':\"amzd\",'mail_id':\"ad@gmail.com\",\"name\":\"amzad\"}"
   ]
  },
  {
   "cell_type": "code",
   "execution_count": 22,
   "id": "2e56d424-cbc3-43da-8b16-8d50d0ccc116",
   "metadata": {},
   "outputs": [
    {
     "data": {
      "text/plain": [
       "'amzad'"
      ]
     },
     "execution_count": 22,
     "metadata": {},
     "output_type": "execute_result"
    }
   ],
   "source": [
    "d4['name']"
   ]
  },
  {
   "cell_type": "code",
   "execution_count": 23,
   "id": "50a6c75f-445b-4927-a9b5-dd0a2d7b9e88",
   "metadata": {},
   "outputs": [],
   "source": [
    "d5={\"company\":\"pwskills\",\"course\":[\"data science\",\"web dev\",\"java with dsa system design\"]}"
   ]
  },
  {
   "cell_type": "code",
   "execution_count": 24,
   "id": "ad029eb7-029c-48de-a262-65e92230c19c",
   "metadata": {},
   "outputs": [
    {
     "data": {
      "text/plain": [
       "{'company': 'pwskills',\n",
       " 'course': ['data science', 'web dev', 'java with dsa system design']}"
      ]
     },
     "execution_count": 24,
     "metadata": {},
     "output_type": "execute_result"
    }
   ],
   "source": [
    "d5"
   ]
  },
  {
   "cell_type": "code",
   "execution_count": 25,
   "id": "44e0725f-dc6b-461b-b490-246afc23fb68",
   "metadata": {},
   "outputs": [
    {
     "data": {
      "text/plain": [
       "['data science', 'web dev', 'java with dsa system design']"
      ]
     },
     "execution_count": 25,
     "metadata": {},
     "output_type": "execute_result"
    }
   ],
   "source": [
    "d5['course']"
   ]
  },
  {
   "cell_type": "code",
   "execution_count": 26,
   "id": "beffe5ca-bf1e-47cd-a2dc-cf7635961e4c",
   "metadata": {},
   "outputs": [
    {
     "data": {
      "text/plain": [
       "'java with dsa system design'"
      ]
     },
     "execution_count": 26,
     "metadata": {},
     "output_type": "execute_result"
    }
   ],
   "source": [
    "d5['course'][2]"
   ]
  },
  {
   "cell_type": "code",
   "execution_count": 29,
   "id": "98fcbca2-3322-492e-843b-3f7d019ef979",
   "metadata": {},
   "outputs": [],
   "source": [
    "d6={\"number\":[2,34,3,34,34],\"assignment\":(1,2,3,4,5,6),\"launch_date\":{28,12,14},\"class_time\":{\"web_dev\":8,\"data science masters\":8,\"java with dsa system design\":7}}"
   ]
  },
  {
   "cell_type": "code",
   "execution_count": 30,
   "id": "a1b24e48-d258-44e8-9fb5-9cf0a6a3f28e",
   "metadata": {},
   "outputs": [
    {
     "data": {
      "text/plain": [
       "{'number': [2, 34, 3, 34, 34],\n",
       " 'assignment': (1, 2, 3, 4, 5, 6),\n",
       " 'launch_date': {12, 14, 28},\n",
       " 'class_time': {'web_dev': 8,\n",
       "  'data science masters': 8,\n",
       "  'java with dsa system design': 7}}"
      ]
     },
     "execution_count": 30,
     "metadata": {},
     "output_type": "execute_result"
    }
   ],
   "source": [
    "d6"
   ]
  },
  {
   "cell_type": "code",
   "execution_count": 34,
   "id": "d3c10d6a-2bfb-4858-8fe9-78c286250097",
   "metadata": {},
   "outputs": [
    {
     "data": {
      "text/plain": [
       "7"
      ]
     },
     "execution_count": 34,
     "metadata": {},
     "output_type": "execute_result"
    }
   ],
   "source": [
    "d6['class_time']['java with dsa system design']"
   ]
  },
  {
   "cell_type": "code",
   "execution_count": 38,
   "id": "b52fdb28-2796-42de-b92e-189febf0f1b3",
   "metadata": {},
   "outputs": [
    {
     "data": {
      "text/plain": [
       "{'number': [2, 34, 3, 34, 34],\n",
       " 'assignment': (1, 2, 3, 4, 5, 6),\n",
       " 'launch_date': {12, 14, 28},\n",
       " 'class_time': {'web_dev': 8,\n",
       "  'data science masters': 8,\n",
       "  'java with dsa system design': 7}}"
      ]
     },
     "execution_count": 38,
     "metadata": {},
     "output_type": "execute_result"
    }
   ],
   "source": [
    "d6"
   ]
  },
  {
   "cell_type": "code",
   "execution_count": 39,
   "id": "1b2dff68-ef5f-4be3-8450-7cdee8f82b1b",
   "metadata": {},
   "outputs": [],
   "source": [
    "d6['mentor']=[\"sudhanshu\",\"krish\",\"anurag\",\"hayder\"]"
   ]
  },
  {
   "cell_type": "code",
   "execution_count": 40,
   "id": "5b70a9bd-9509-4f6d-a1e1-c5c5bfaaecfa",
   "metadata": {},
   "outputs": [
    {
     "data": {
      "text/plain": [
       "{'number': [2, 34, 3, 34, 34],\n",
       " 'assignment': (1, 2, 3, 4, 5, 6),\n",
       " 'launch_date': {12, 14, 28},\n",
       " 'class_time': {'web_dev': 8,\n",
       "  'data science masters': 8,\n",
       "  'java with dsa system design': 7},\n",
       " 'mentor': ['sudhanshu', 'krish', 'anurag', 'hayder']}"
      ]
     },
     "execution_count": 40,
     "metadata": {},
     "output_type": "execute_result"
    }
   ],
   "source": [
    "d6"
   ]
  },
  {
   "cell_type": "code",
   "execution_count": 45,
   "id": "eeaae580-a80d-42f0-9f60-9cc86a8632ef",
   "metadata": {},
   "outputs": [
    {
     "data": {
      "text/plain": [
       "{'assignment': (1, 2, 3, 4, 5, 6),\n",
       " 'launch_date': {12, 14, 28},\n",
       " 'class_time': {'web_dev': 8,\n",
       "  'data science masters': 8,\n",
       "  'java with dsa system design': 7},\n",
       " 'mentor': ['sudhanshu', 'krish', 'anurag', 'hayder']}"
      ]
     },
     "execution_count": 45,
     "metadata": {},
     "output_type": "execute_result"
    }
   ],
   "source": [
    "d6"
   ]
  },
  {
   "cell_type": "code",
   "execution_count": 46,
   "id": "5a024924-f325-42f8-813a-12e5e6cd7743",
   "metadata": {},
   "outputs": [],
   "source": [
    "del d6['assignment']"
   ]
  },
  {
   "cell_type": "code",
   "execution_count": 47,
   "id": "7281b4b3-fbf6-47e1-ae05-622dd7c46970",
   "metadata": {},
   "outputs": [
    {
     "data": {
      "text/plain": [
       "{'launch_date': {12, 14, 28},\n",
       " 'class_time': {'web_dev': 8,\n",
       "  'data science masters': 8,\n",
       "  'java with dsa system design': 7},\n",
       " 'mentor': ['sudhanshu', 'krish', 'anurag', 'hayder']}"
      ]
     },
     "execution_count": 47,
     "metadata": {},
     "output_type": "execute_result"
    }
   ],
   "source": [
    "d6"
   ]
  },
  {
   "cell_type": "code",
   "execution_count": 48,
   "id": "53b7e8e5-483e-49bc-8855-13150f0f5342",
   "metadata": {},
   "outputs": [
    {
     "data": {
      "text/plain": [
       "dict_keys(['launch_date', 'class_time', 'mentor'])"
      ]
     },
     "execution_count": 48,
     "metadata": {},
     "output_type": "execute_result"
    }
   ],
   "source": [
    "d6.keys()"
   ]
  },
  {
   "cell_type": "code",
   "execution_count": 49,
   "id": "e6835f66-4ffd-47c9-bd50-c37b6309e195",
   "metadata": {},
   "outputs": [
    {
     "data": {
      "text/plain": [
       "[{12, 14, 28},\n",
       " {'web_dev': 8, 'data science masters': 8, 'java with dsa system design': 7},\n",
       " ['sudhanshu', 'krish', 'anurag', 'hayder']]"
      ]
     },
     "execution_count": 49,
     "metadata": {},
     "output_type": "execute_result"
    }
   ],
   "source": [
    "list(d6.values())"
   ]
  },
  {
   "cell_type": "code",
   "execution_count": 50,
   "id": "d3715606-5c49-4371-a2a0-5f9f50bad9f8",
   "metadata": {},
   "outputs": [
    {
     "data": {
      "text/plain": [
       "[('launch_date', {12, 14, 28}),\n",
       " ('class_time',\n",
       "  {'web_dev': 8, 'data science masters': 8, 'java with dsa system design': 7}),\n",
       " ('mentor', ['sudhanshu', 'krish', 'anurag', 'hayder'])]"
      ]
     },
     "execution_count": 50,
     "metadata": {},
     "output_type": "execute_result"
    }
   ],
   "source": [
    "list(d6.items())"
   ]
  },
  {
   "cell_type": "code",
   "execution_count": 53,
   "id": "b2dd826c-5a60-4cdf-8a6f-100f607552bd",
   "metadata": {},
   "outputs": [
    {
     "data": {
      "text/plain": [
       "{12, 14, 28}"
      ]
     },
     "execution_count": 53,
     "metadata": {},
     "output_type": "execute_result"
    }
   ],
   "source": [
    "d6.pop('launch_date')"
   ]
  },
  {
   "cell_type": "code",
   "execution_count": 54,
   "id": "5f919157-3d1e-4342-a453-5e77476d5656",
   "metadata": {},
   "outputs": [
    {
     "data": {
      "text/plain": [
       "{'class_time': {'web_dev': 8,\n",
       "  'data science masters': 8,\n",
       "  'java with dsa system design': 7},\n",
       " 'mentor': ['sudhanshu', 'krish', 'anurag', 'hayder']}"
      ]
     },
     "execution_count": 54,
     "metadata": {},
     "output_type": "execute_result"
    }
   ],
   "source": [
    "d6"
   ]
  },
  {
   "cell_type": "code",
   "execution_count": 55,
   "id": "2c7c25ac-3cc0-4df0-b1b6-2faf0dfe036f",
   "metadata": {},
   "outputs": [
    {
     "ename": "TypeError",
     "evalue": "pop expected at least 1 argument, got 0",
     "output_type": "error",
     "traceback": [
      "\u001b[0;31m---------------------------------------------------------------------------\u001b[0m",
      "\u001b[0;31mTypeError\u001b[0m                                 Traceback (most recent call last)",
      "Cell \u001b[0;32mIn[55], line 1\u001b[0m\n\u001b[0;32m----> 1\u001b[0m \u001b[43md6\u001b[49m\u001b[38;5;241;43m.\u001b[39;49m\u001b[43mpop\u001b[49m\u001b[43m(\u001b[49m\u001b[43m)\u001b[49m\n",
      "\u001b[0;31mTypeError\u001b[0m: pop expected at least 1 argument, got 0"
     ]
    }
   ],
   "source": [
    "d6.pop()"
   ]
  },
  {
   "cell_type": "code",
   "execution_count": 12,
   "id": "73f3613f-1180-4ab1-84a2-8a6b905a61b6",
   "metadata": {},
   "outputs": [
    {
     "name": "stdin",
     "output_type": "stream",
     "text": [
      "enter your marks 90\n"
     ]
    },
    {
     "name": "stdout",
     "output_type": "stream",
     "text": [
      "you will be a part of A0 batch\n"
     ]
    }
   ],
   "source": [
    "marks=int(input(\"enter your marks\"))\n",
    "if marks>=80:\n",
    "    print(\"you will be a part of A0 batch\")\n",
    "elif marks>=60 and marks <80:\n",
    "    print(\"you will be a part of A1 batch\")\n",
    "elif marks>=40 and marks<60:\n",
    "    print(\"you will be a part of A2 batch\")\n",
    "else:\n",
    "    print(\"you will be a part of A3 batch\")"
   ]
  },
  {
   "cell_type": "code",
   "execution_count": 66,
   "id": "9d31ff43-8149-4d60-bd85-71dbc7cdbdde",
   "metadata": {},
   "outputs": [
    {
     "data": {
      "text/plain": [
       "False"
      ]
     },
     "execution_count": 66,
     "metadata": {},
     "output_type": "execute_result"
    }
   ],
   "source": [
    "10>=80"
   ]
  },
  {
   "cell_type": "code",
   "execution_count": 4,
   "id": "407deeaa-65a8-462d-aaee-38cefac343f9",
   "metadata": {},
   "outputs": [
    {
     "name": "stdin",
     "output_type": "stream",
     "text": [
      "enter your marks 45\n"
     ]
    }
   ],
   "source": [
    "marks=int(input(\"enter your marks\"))"
   ]
  },
  {
   "cell_type": "code",
   "execution_count": 6,
   "id": "e1f13bc6-ca2e-4743-a060-b8b91ccdbcca",
   "metadata": {},
   "outputs": [
    {
     "data": {
      "text/plain": [
       "45"
      ]
     },
     "execution_count": 6,
     "metadata": {},
     "output_type": "execute_result"
    }
   ],
   "source": [
    "marks"
   ]
  },
  {
   "cell_type": "code",
   "execution_count": 8,
   "id": "62dec76e-987f-40d0-9220-5024fe885108",
   "metadata": {},
   "outputs": [
    {
     "data": {
      "text/plain": [
       "int"
      ]
     },
     "execution_count": 8,
     "metadata": {},
     "output_type": "execute_result"
    }
   ],
   "source": [
    "type(marks)"
   ]
  },
  {
   "cell_type": "code",
   "execution_count": 20,
   "id": "a2260c38-6f9f-4d88-a8f7-fafb5c0c67c2",
   "metadata": {},
   "outputs": [
    {
     "name": "stdin",
     "output_type": "stream",
     "text": [
      "enter price 1500\n"
     ]
    },
    {
     "name": "stdout",
     "output_type": "stream",
     "text": [
      "i will not purchase\n",
      "its ok\n"
     ]
    }
   ],
   "source": [
    "price=int(input(\"enter price\"))\n",
    "if price>1000:\n",
    "    print(\"i will not purchase\")\n",
    "else:\n",
    "    print(\"i will purchase\")\n",
    "if price>5000:\n",
    "    print(\"this is too much\")\n",
    "elif price<2000:\n",
    "    print(\"its ok\")\n",
    "elif price<1000:\n",
    "    print(\"i will purchase\")\n",
    "else:\n",
    "    print(\"not interested\")"
   ]
  },
  {
   "cell_type": "code",
   "execution_count": 21,
   "id": "abcff5cc-5824-4dcd-a5d4-7c4421fd1d9f",
   "metadata": {},
   "outputs": [],
   "source": [
    "l=[1,2,3,4,5,6,7,8]"
   ]
  },
  {
   "cell_type": "code",
   "execution_count": 22,
   "id": "b6c8ac7d-88fb-401c-a803-87af92efbed8",
   "metadata": {},
   "outputs": [
    {
     "data": {
      "text/plain": [
       "2"
      ]
     },
     "execution_count": 22,
     "metadata": {},
     "output_type": "execute_result"
    }
   ],
   "source": [
    "l[0]+1"
   ]
  },
  {
   "cell_type": "code",
   "execution_count": 23,
   "id": "9ec7e2b3-1ee5-4e4b-8f02-9852e1cc50aa",
   "metadata": {},
   "outputs": [],
   "source": [
    "l1=[]"
   ]
  },
  {
   "cell_type": "code",
   "execution_count": 24,
   "id": "f750b3d6-8350-4974-b23b-27634431c1c6",
   "metadata": {},
   "outputs": [],
   "source": [
    "l1.append(l[0]+1)"
   ]
  },
  {
   "cell_type": "code",
   "execution_count": 25,
   "id": "2c8e477d-2b4f-4951-9774-b8e9eac5d4b5",
   "metadata": {},
   "outputs": [
    {
     "data": {
      "text/plain": [
       "[2]"
      ]
     },
     "execution_count": 25,
     "metadata": {},
     "output_type": "execute_result"
    }
   ],
   "source": [
    "l1"
   ]
  },
  {
   "cell_type": "code",
   "execution_count": 26,
   "id": "07825540-71b7-4ff1-93ff-2e004cebe618",
   "metadata": {},
   "outputs": [
    {
     "data": {
      "text/plain": [
       "[1, 2, 3, 4, 5, 6, 7, 8]"
      ]
     },
     "execution_count": 26,
     "metadata": {},
     "output_type": "execute_result"
    }
   ],
   "source": [
    "l"
   ]
  },
  {
   "cell_type": "code",
   "execution_count": 35,
   "id": "7a06053f-8e9b-4f92-9542-bfa8ec7add90",
   "metadata": {},
   "outputs": [
    {
     "name": "stdout",
     "output_type": "stream",
     "text": [
      "2\n",
      "3\n",
      "4\n",
      "5\n",
      "6\n",
      "7\n",
      "8\n",
      "9\n"
     ]
    },
    {
     "data": {
      "text/plain": [
       "[2, 3, 4, 5, 6, 7, 8, 9]"
      ]
     },
     "execution_count": 35,
     "metadata": {},
     "output_type": "execute_result"
    }
   ],
   "source": [
    "l1=[]\n",
    "for i in l:\n",
    "    print(i+1)\n",
    "    l1.append(i+1)\n",
    "l1"
   ]
  },
  {
   "cell_type": "code",
   "execution_count": 36,
   "id": "519a4703-23c4-40b2-bf98-40b6bfe3c69c",
   "metadata": {},
   "outputs": [
    {
     "data": {
      "text/plain": [
       "[1, 2, 3, 4, 5, 6, 7, 8]"
      ]
     },
     "execution_count": 36,
     "metadata": {},
     "output_type": "execute_result"
    }
   ],
   "source": [
    "l"
   ]
  },
  {
   "cell_type": "code",
   "execution_count": 37,
   "id": "0071fede-43cd-4e7e-8812-b3a08e0120f7",
   "metadata": {},
   "outputs": [],
   "source": [
    "l=[\"amzad\",\"alam\",\"pwskills\",\"course\"]"
   ]
  },
  {
   "cell_type": "code",
   "execution_count": 39,
   "id": "487d025d-a32a-443f-aa6e-cc8d136b3af0",
   "metadata": {},
   "outputs": [
    {
     "name": "stdout",
     "output_type": "stream",
     "text": [
      "amzad\n",
      "alam\n",
      "pwskills\n",
      "course\n"
     ]
    }
   ],
   "source": [
    "l1=[]\n",
    "for i in l:\n",
    "    print(i)\n",
    "    l1.append(i.upper())"
   ]
  },
  {
   "cell_type": "code",
   "execution_count": 40,
   "id": "fbaa1a1b-6f71-46e9-8913-deafeeaa9385",
   "metadata": {},
   "outputs": [
    {
     "data": {
      "text/plain": [
       "['AMZAD', 'ALAM', 'PWSKILLS', 'COURSE']"
      ]
     },
     "execution_count": 40,
     "metadata": {},
     "output_type": "execute_result"
    }
   ],
   "source": [
    "l1"
   ]
  },
  {
   "cell_type": "code",
   "execution_count": 41,
   "id": "fce80954-a659-478c-b535-a1761c8e9849",
   "metadata": {},
   "outputs": [],
   "source": [
    "l=[1,2,3,4,4,\"amzad\",\"alam\",324,34.56,\"abc\"]"
   ]
  },
  {
   "cell_type": "code",
   "execution_count": 42,
   "id": "470b32aa-f663-4fd4-8010-3351ca55be08",
   "metadata": {},
   "outputs": [],
   "source": [
    "l1_num=[]\n",
    "l2_str=[]\n",
    "for i in l:\n",
    "    if type(i)==int or type(i)==float:\n",
    "        l1_num.append(i)\n",
    "    else:\n",
    "        l2_str.append(i)"
   ]
  },
  {
   "cell_type": "code",
   "execution_count": 43,
   "id": "868125b9-ab5e-4dc2-8f75-3e4b7c2b10d0",
   "metadata": {},
   "outputs": [
    {
     "data": {
      "text/plain": [
       "[1, 2, 3, 4, 4, 324, 34.56]"
      ]
     },
     "execution_count": 43,
     "metadata": {},
     "output_type": "execute_result"
    }
   ],
   "source": [
    "l1_num"
   ]
  },
  {
   "cell_type": "code",
   "execution_count": 44,
   "id": "4ea1ff30-9e54-4d0f-8763-0b84a514e096",
   "metadata": {},
   "outputs": [
    {
     "data": {
      "text/plain": [
       "['amzad', 'alam', 'abc']"
      ]
     },
     "execution_count": 44,
     "metadata": {},
     "output_type": "execute_result"
    }
   ],
   "source": [
    "l2_str"
   ]
  },
  {
   "cell_type": "code",
   "execution_count": null,
   "id": "27bce3c3-f9a3-4175-a821-9c314b74b24e",
   "metadata": {},
   "outputs": [],
   "source": []
  }
 ],
 "metadata": {
  "kernelspec": {
   "display_name": "Python 3 (ipykernel)",
   "language": "python",
   "name": "python3"
  },
  "language_info": {
   "codemirror_mode": {
    "name": "ipython",
    "version": 3
   },
   "file_extension": ".py",
   "mimetype": "text/x-python",
   "name": "python",
   "nbconvert_exporter": "python",
   "pygments_lexer": "ipython3",
   "version": "3.10.8"
  }
 },
 "nbformat": 4,
 "nbformat_minor": 5
}
